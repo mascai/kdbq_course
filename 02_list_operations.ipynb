{
 "cells": [
  {
   "cell_type": "markdown",
   "id": "2c2f8ff4",
   "metadata": {},
   "source": [
    "## List operations"
   ]
  },
  {
   "cell_type": "code",
   "execution_count": 2,
   "id": "63be419d",
   "metadata": {},
   "outputs": [
    {
     "data": {
      "text/plain": [
       "2 3 4 5 1\n"
      ]
     },
     "execution_count": 2,
     "metadata": {},
     "output_type": "execute_result"
    }
   ],
   "source": [
    "\\ join atom and list\n",
    "a:1\n",
    "l:2 3 4 5\n",
    "l,a"
   ]
  },
  {
   "cell_type": "code",
   "execution_count": 3,
   "id": "27b3005f",
   "metadata": {},
   "outputs": [
    {
     "data": {
      "text/plain": [
       "2 3 4 5 1\n"
      ]
     },
     "execution_count": 3,
     "metadata": {},
     "output_type": "execute_result"
    }
   ],
   "source": [
    "\\ join in place\n",
    "l,:a\n",
    "l"
   ]
  },
  {
   "cell_type": "code",
   "execution_count": 5,
   "id": "f922138e",
   "metadata": {},
   "outputs": [
    {
     "name": "stdout",
     "output_type": "stream",
     "text": [
      "1 2 3 4 10 20 30\n"
     ]
    }
   ],
   "source": [
    "\\ join two list\n",
    "l1:1 2 3 4\n",
    "l2: 10 20 30\n",
    "l1,:l2\n",
    "show l1"
   ]
  },
  {
   "cell_type": "code",
   "execution_count": 6,
   "id": "75e5a539",
   "metadata": {},
   "outputs": [
    {
     "data": {
      "text/plain": [
       "3 4 10 20 30\n"
      ]
     },
     "execution_count": 6,
     "metadata": {},
     "output_type": "execute_result"
    }
   ],
   "source": [
    "\\ Pop 2 front elements\n",
    "2_l1"
   ]
  },
  {
   "cell_type": "code",
   "execution_count": 8,
   "id": "b02521f8",
   "metadata": {},
   "outputs": [
    {
     "data": {
      "text/plain": [
       "1 2 3 4\n"
      ]
     },
     "execution_count": 8,
     "metadata": {},
     "output_type": "execute_result"
    }
   ],
   "source": [
    "\\ Pop 3 back elements\n",
    "-3_l1"
   ]
  },
  {
   "cell_type": "code",
   "execution_count": 11,
   "id": "85ed35a7",
   "metadata": {},
   "outputs": [
    {
     "name": "stdout",
     "output_type": "stream",
     "text": [
      "1 2 3 4 10 20 30\n",
      "1 2 3 10 20 30\n"
     ]
    }
   ],
   "source": [
    "\\ Remove element with index 3\n",
    "show l1\n",
    "show l1 _ 3"
   ]
  },
  {
   "cell_type": "code",
   "execution_count": 18,
   "id": "6d36f570",
   "metadata": {},
   "outputs": [
    {
     "data": {
      "text/plain": [
       "1 2\n",
       "3 4 10 20 30\n"
      ]
     },
     "execution_count": 18,
     "metadata": {},
     "output_type": "execute_result"
    }
   ],
   "source": [
    "\\ Remove elements from range [0 2)\n",
    "res: 0 2 cut l1\n",
    "res"
   ]
  },
  {
   "cell_type": "code",
   "execution_count": 21,
   "id": "ce15447f",
   "metadata": {},
   "outputs": [
    {
     "data": {
      "text/plain": [
       "1 2\n",
       "3 4\n",
       "10 20\n",
       ",30\n"
      ]
     },
     "execution_count": 21,
     "metadata": {},
     "output_type": "execute_result"
    }
   ],
   "source": [
    "\\ Split elements into chanks of size 2\n",
    "2 cut l1"
   ]
  },
  {
   "cell_type": "code",
   "execution_count": 25,
   "id": "f674bbfe",
   "metadata": {},
   "outputs": [
    {
     "name": "stdout",
     "output_type": "stream",
     "text": [
      "2 3 4 5 1\n",
      "2 3 4\n",
      "5 1\n"
     ]
    }
   ],
   "source": [
    "\\ take 3 first elements\n",
    "show l\n",
    "show 3#l\n",
    "show -2#l"
   ]
  },
  {
   "cell_type": "code",
   "execution_count": 41,
   "id": "4cbac381",
   "metadata": {},
   "outputs": [
    {
     "name": "stdout",
     "output_type": "stream",
     "text": [
      "2 3 4 5 1\n",
      "4 5 1\n",
      "4 5 1\n"
     ]
    }
   ],
   "source": [
    "\\ take 3 elements from index 2\n",
    "show l\n",
    "show 2 3 sublist l\n",
    "show -3 sublist l"
   ]
  },
  {
   "cell_type": "code",
   "execution_count": 31,
   "id": "d0bc1b45",
   "metadata": {},
   "outputs": [
    {
     "name": "stdout",
     "output_type": "stream",
     "text": [
      "2 3 4 5 1\n",
      "2\n",
      "5\n",
      "5\n"
     ]
    }
   ],
   "source": [
    "\\ Find element in the list\n",
    "\\ Returns index of first occur or list_size\n",
    "show l\n",
    "show l?4\n",
    "show l?10\n",
    "show count l"
   ]
  },
  {
   "cell_type": "code",
   "execution_count": 36,
   "id": "0cd45def",
   "metadata": {},
   "outputs": [
    {
     "data": {
      "text/plain": [
       "2 0 1 0 0 0 2 2 2 1 1 3 0 1 2\n"
      ]
     },
     "execution_count": 36,
     "metadata": {},
     "output_type": "execute_result"
    }
   ],
   "source": [
    "\\ Random generator\n",
    "\\ Generate list of 15 elements from 0 to 3\n",
    "15?4"
   ]
  },
  {
   "cell_type": "code",
   "execution_count": 39,
   "id": "a8390fa1",
   "metadata": {},
   "outputs": [
    {
     "data": {
      "text/plain": [
       "1 3 2\n"
      ]
     },
     "execution_count": 39,
     "metadata": {},
     "output_type": "execute_result"
    }
   ],
   "source": [
    "\\ Random generator\n",
    "\\ Generate list of 3 unique elements from 0 to 3\n",
    "-3?4"
   ]
  },
  {
   "cell_type": "code",
   "execution_count": 46,
   "id": "c34e378e",
   "metadata": {},
   "outputs": [
    {
     "data": {
      "text/plain": [
       "1 2 3\n",
       "4 5 6\n",
       "7 8 9\n"
      ]
     },
     "execution_count": 46,
     "metadata": {},
     "output_type": "execute_result"
    }
   ],
   "source": [
    "l: (1 2 3; 4 5 6; 7 8 9)\n",
    "l"
   ]
  },
  {
   "cell_type": "code",
   "execution_count": 47,
   "id": "92a9377e",
   "metadata": {},
   "outputs": [
    {
     "data": {
      "text/plain": [
       "1 2 3 4 5 6 7 8 9\n"
      ]
     },
     "execution_count": 47,
     "metadata": {},
     "output_type": "execute_result"
    }
   ],
   "source": [
    "raze l"
   ]
  },
  {
   "cell_type": "code",
   "execution_count": 48,
   "id": "ac6af00c",
   "metadata": {},
   "outputs": [
    {
     "data": {
      "text/plain": [
       "2 3\n"
      ]
     },
     "execution_count": 48,
     "metadata": {},
     "output_type": "execute_result"
    }
   ],
   "source": [
    "l1: 1 2 3\n",
    "l2: 2 3 4 5\n",
    "l1 inter l2"
   ]
  },
  {
   "cell_type": "code",
   "execution_count": 49,
   "id": "acf4bce0",
   "metadata": {},
   "outputs": [
    {
     "data": {
      "text/plain": [
       ",1\n"
      ]
     },
     "execution_count": 49,
     "metadata": {},
     "output_type": "execute_result"
    }
   ],
   "source": [
    "l1 except l2"
   ]
  },
  {
   "cell_type": "code",
   "execution_count": 50,
   "id": "4e6ef499",
   "metadata": {},
   "outputs": [
    {
     "data": {
      "text/plain": [
       "1 2 3 4 5\n"
      ]
     },
     "execution_count": 50,
     "metadata": {},
     "output_type": "execute_result"
    }
   ],
   "source": [
    "l1 union l2"
   ]
  },
  {
   "cell_type": "code",
   "execution_count": 52,
   "id": "91bd2aab",
   "metadata": {},
   "outputs": [
    {
     "data": {
      "text/plain": [
       "1 2 3\n"
      ]
     },
     "execution_count": 52,
     "metadata": {},
     "output_type": "execute_result"
    }
   ],
   "source": [
    "l1: 1 2 2 3\n",
    "distinct l1"
   ]
  },
  {
   "cell_type": "code",
   "execution_count": 54,
   "id": "6e0e2b78",
   "metadata": {},
   "outputs": [
    {
     "name": "stdout",
     "output_type": "stream",
     "text": [
      "1 2 3\n",
      "4 5 6\n",
      "\"Transposed:\"\n",
      "1 4\n",
      "2 5\n",
      "3 6\n"
     ]
    }
   ],
   "source": [
    "\\ transpose\n",
    "l: (1 2 3; 4 5 6)\n",
    "show l\n",
    "show \"Transposed:\"\n",
    "show flip l"
   ]
  },
  {
   "cell_type": "code",
   "execution_count": 56,
   "id": "21706d82",
   "metadata": {},
   "outputs": [
    {
     "data": {
      "text/plain": [
       "0 1 2 3 4 5 6 7 8 9 10\n"
      ]
     },
     "execution_count": 56,
     "metadata": {},
     "output_type": "execute_result"
    }
   ],
   "source": [
    "l: til 11\n",
    "l"
   ]
  },
  {
   "cell_type": "code",
   "execution_count": 57,
   "id": "a746479f",
   "metadata": {},
   "outputs": [
    {
     "data": {
      "text/plain": [
       "1b\n"
      ]
     },
     "execution_count": 57,
     "metadata": {},
     "output_type": "execute_result"
    }
   ],
   "source": [
    "5 in l"
   ]
  },
  {
   "cell_type": "markdown",
   "id": "924b1bb4",
   "metadata": {},
   "source": [
    "## Where"
   ]
  },
  {
   "cell_type": "code",
   "execution_count": 65,
   "id": "36d4234f",
   "metadata": {},
   "outputs": [
    {
     "data": {
      "text/plain": [
       "0110b\n"
      ]
     },
     "execution_count": 65,
     "metadata": {},
     "output_type": "execute_result"
    }
   ],
   "source": [
    "price: 1 6 5 3\n",
    "price > 4"
   ]
  },
  {
   "cell_type": "code",
   "execution_count": 66,
   "id": "f523c9c4",
   "metadata": {},
   "outputs": [
    {
     "data": {
      "text/plain": [
       "1 2\n"
      ]
     },
     "execution_count": 66,
     "metadata": {},
     "output_type": "execute_result"
    }
   ],
   "source": [
    "\\ Returns indexes of true\n",
    "where price > 4 "
   ]
  },
  {
   "cell_type": "code",
   "execution_count": 67,
   "id": "3bc3caf9",
   "metadata": {},
   "outputs": [
    {
     "data": {
      "text/plain": [
       "600 500\n"
      ]
     },
     "execution_count": 67,
     "metadata": {},
     "output_type": "execute_result"
    }
   ],
   "source": [
    "sizes: 100 600 500 300\n",
    "\n",
    "sizes where price>4"
   ]
  },
  {
   "cell_type": "code",
   "execution_count": null,
   "id": "1d0a56f8",
   "metadata": {},
   "outputs": [],
   "source": []
  }
 ],
 "metadata": {
  "kernelspec": {
   "display_name": "Q (kdb+)",
   "language": "q",
   "name": "qpk"
  },
  "language_info": {
   "file_extension": ".q",
   "mimetype": "text/x-q",
   "name": "q",
   "version": "4.0"
  }
 },
 "nbformat": 4,
 "nbformat_minor": 5
}
