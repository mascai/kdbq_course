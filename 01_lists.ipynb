{
 "cells": [
  {
   "cell_type": "markdown",
   "id": "ff3fe386",
   "metadata": {},
   "source": [
    "## Lists in Q 10.06.2021"
   ]
  },
  {
   "cell_type": "code",
   "execution_count": 21,
   "id": "4d492ba9",
   "metadata": {},
   "outputs": [
    {
     "name": "stdout",
     "output_type": "stream",
     "text": [
      "1 2 3 4\n",
      "7h\n",
      "-7 -7 -7 -7h\n"
     ]
    }
   ],
   "source": [
    "\\ Define list\n",
    "l1: 1 2 3 4\n",
    "show l1\n",
    "show type l1\n",
    "show type each l1"
   ]
  },
  {
   "cell_type": "code",
   "execution_count": 22,
   "id": "118306af",
   "metadata": {},
   "outputs": [
    {
     "name": "stdout",
     "output_type": "stream",
     "text": [
      "3 4 5 6\n"
     ]
    }
   ],
   "source": [
    "l2:l1+2\n",
    "show l2"
   ]
  },
  {
   "cell_type": "code",
   "execution_count": 23,
   "id": "2a697431",
   "metadata": {},
   "outputs": [
    {
     "data": {
      "text/plain": [
       "3 6 9 12\n"
      ]
     },
     "execution_count": 23,
     "metadata": {},
     "output_type": "execute_result"
    }
   ],
   "source": [
    "l2:l1*3\n",
    "l2"
   ]
  },
  {
   "cell_type": "code",
   "execution_count": 36,
   "id": "fbaae387",
   "metadata": {},
   "outputs": [
    {
     "data": {
      "text/plain": [
       "0h\n"
      ]
     },
     "execution_count": 36,
     "metadata": {},
     "output_type": "execute_result"
    }
   ],
   "source": [
    "\\ Empty list\n",
    "l3:()\n",
    "type l3"
   ]
  },
  {
   "cell_type": "code",
   "execution_count": 37,
   "id": "99ccad29",
   "metadata": {},
   "outputs": [
    {
     "data": {
      "text/plain": [
       ",1\n"
      ]
     },
     "execution_count": 37,
     "metadata": {},
     "output_type": "execute_result"
    }
   ],
   "source": [
    "\\ List of 1 element\n",
    "l: enlist 1\n",
    "l"
   ]
  },
  {
   "cell_type": "code",
   "execution_count": 27,
   "id": "67469bf5",
   "metadata": {},
   "outputs": [
    {
     "data": {
      "text/plain": [
       "6h\n"
      ]
     },
     "execution_count": 27,
     "metadata": {},
     "output_type": "execute_result"
    }
   ],
   "source": [
    "\\ Empty list of type integer\n",
    "l4:`int$()\n",
    "type l4"
   ]
  },
  {
   "cell_type": "code",
   "execution_count": 30,
   "id": "bc3a19b0",
   "metadata": {},
   "outputs": [
    {
     "name": "stdout",
     "output_type": "stream",
     "text": [
      "1i\n",
      "2.4\n",
      "\"qwert\"\n",
      "-6 -9 10h\n"
     ]
    }
   ],
   "source": [
    "l5:(1i; 2.4f; \"qwert\")\n",
    "show l5\n",
    "show type each l5"
   ]
  },
  {
   "cell_type": "code",
   "execution_count": 33,
   "id": "e472ac41",
   "metadata": {},
   "outputs": [
    {
     "data": {
      "text/plain": [
       "1111b\n"
      ]
     },
     "execution_count": 33,
     "metadata": {},
     "output_type": "execute_result"
    },
    {
     "data": {
      "text/plain": [
       "0b\n"
      ]
     },
     "execution_count": 33,
     "metadata": {},
     "output_type": "execute_result"
    }
   ],
   "source": [
    "l1:1 2 3 4i\n",
    "l2:1 2 3 4f\n",
    "\n",
    "\\ 1111b\n",
    "l1 = l2\n",
    "\n",
    "\\ 0b - Compare objects\n",
    "l1 ~ l2 "
   ]
  },
  {
   "cell_type": "markdown",
   "id": "1441a421",
   "metadata": {},
   "source": [
    "## List of lists"
   ]
  },
  {
   "cell_type": "code",
   "execution_count": 63,
   "id": "242cfec4",
   "metadata": {},
   "outputs": [
    {
     "name": "stdout",
     "output_type": "stream",
     "text": [
      "0h\n"
     ]
    },
    {
     "data": {
      "text/plain": [
       "1 2 3\n",
       "12\n",
       "13\n",
       "0 1 2 3\n"
      ]
     },
     "execution_count": 63,
     "metadata": {},
     "output_type": "execute_result"
    }
   ],
   "source": [
    "matrix:(1 2 3; 12; 13; 0 1 2 3)\n",
    "show type matrix\n",
    "matrix"
   ]
  },
  {
   "cell_type": "code",
   "execution_count": 64,
   "id": "0916cca9",
   "metadata": {},
   "outputs": [
    {
     "data": {
      "text/plain": [
       "4\n"
      ]
     },
     "execution_count": 64,
     "metadata": {},
     "output_type": "execute_result"
    },
    {
     "data": {
      "text/plain": [
       "3 1 1 4\n"
      ]
     },
     "execution_count": 64,
     "metadata": {},
     "output_type": "execute_result"
    }
   ],
   "source": [
    "\\ Count elements in matrix\n",
    "count matrix\n",
    "\n",
    "\n",
    "\\ Count len of each subList\n",
    "count each matrix"
   ]
  },
  {
   "cell_type": "code",
   "execution_count": 65,
   "id": "f9c1a743",
   "metadata": {},
   "outputs": [
    {
     "data": {
      "text/plain": [
       "1 2 3\n"
      ]
     },
     "execution_count": 65,
     "metadata": {},
     "output_type": "execute_result"
    }
   ],
   "source": [
    "matrix[0]"
   ]
  },
  {
   "cell_type": "code",
   "execution_count": 66,
   "id": "bf4e0c7c",
   "metadata": {},
   "outputs": [
    {
     "data": {
      "text/plain": [
       "2\n"
      ]
     },
     "execution_count": 66,
     "metadata": {},
     "output_type": "execute_result"
    }
   ],
   "source": [
    "matrix[0][1]"
   ]
  },
  {
   "cell_type": "code",
   "execution_count": 67,
   "id": "0f29a7d4",
   "metadata": {},
   "outputs": [
    {
     "data": {
      "text/plain": [
       "2\n"
      ]
     },
     "execution_count": 67,
     "metadata": {},
     "output_type": "execute_result"
    }
   ],
   "source": [
    "matrix[0; 1]"
   ]
  },
  {
   "cell_type": "code",
   "execution_count": 68,
   "id": "595d92cb",
   "metadata": {},
   "outputs": [
    {
     "data": {
      "text/plain": [
       "1 2 3\n",
       "12\n"
      ]
     },
     "execution_count": 68,
     "metadata": {},
     "output_type": "execute_result"
    }
   ],
   "source": [
    "\\ Two first rows\n",
    "matrix[0, 1]"
   ]
  },
  {
   "cell_type": "markdown",
   "id": "e882991b",
   "metadata": {},
   "source": [
    "## String"
   ]
  },
  {
   "cell_type": "code",
   "execution_count": 45,
   "id": "4104b7a8",
   "metadata": {},
   "outputs": [
    {
     "data": {
      "text/plain": [
       "\"qwert\"\n"
      ]
     },
     "execution_count": 45,
     "metadata": {},
     "output_type": "execute_result"
    }
   ],
   "source": [
    "l2:\"qwert\"\n",
    "l2"
   ]
  },
  {
   "cell_type": "code",
   "execution_count": 46,
   "id": "edf8d163",
   "metadata": {},
   "outputs": [
    {
     "data": {
      "text/plain": [
       "\"w\"\n"
      ]
     },
     "execution_count": 46,
     "metadata": {},
     "output_type": "execute_result"
    }
   ],
   "source": [
    "l2[1]"
   ]
  },
  {
   "cell_type": "code",
   "execution_count": null,
   "id": "149d204a",
   "metadata": {},
   "outputs": [],
   "source": []
  }
 ],
 "metadata": {
  "kernelspec": {
   "display_name": "Q (kdb+)",
   "language": "q",
   "name": "qpk"
  },
  "language_info": {
   "file_extension": ".q",
   "mimetype": "text/x-q",
   "name": "q",
   "version": "4.0"
  }
 },
 "nbformat": 4,
 "nbformat_minor": 5
}
